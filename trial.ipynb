{
 "cells": [
  {
   "cell_type": "code",
   "execution_count": 1,
   "id": "cf5dbab8",
   "metadata": {},
   "outputs": [],
   "source": [
    "import pandas as pd\n",
    "import numpy as np"
   ]
  },
  {
   "cell_type": "code",
   "execution_count": 2,
   "id": "2278de38",
   "metadata": {},
   "outputs": [
    {
     "data": {
      "text/html": [
       "<div>\n",
       "<style scoped>\n",
       "    .dataframe tbody tr th:only-of-type {\n",
       "        vertical-align: middle;\n",
       "    }\n",
       "\n",
       "    .dataframe tbody tr th {\n",
       "        vertical-align: top;\n",
       "    }\n",
       "\n",
       "    .dataframe thead th {\n",
       "        text-align: right;\n",
       "    }\n",
       "</style>\n",
       "<table border=\"1\" class=\"dataframe\">\n",
       "  <thead>\n",
       "    <tr style=\"text-align: right;\">\n",
       "      <th></th>\n",
       "      <th>Unnamed: 0</th>\n",
       "      <th>Brand</th>\n",
       "      <th>Movement</th>\n",
       "      <th>Case material</th>\n",
       "      <th>Bracelet material</th>\n",
       "      <th>Gender</th>\n",
       "      <th>Price</th>\n",
       "      <th>Shape</th>\n",
       "      <th>Crystal</th>\n",
       "      <th>Dial</th>\n",
       "      <th>Bracelet color</th>\n",
       "      <th>Clasp</th>\n",
       "      <th>Total Sale</th>\n",
       "      <th>Seller Reviews</th>\n",
       "      <th>Year</th>\n",
       "      <th>Volume</th>\n",
       "    </tr>\n",
       "  </thead>\n",
       "  <tbody>\n",
       "    <tr>\n",
       "      <th>0</th>\n",
       "      <td>12</td>\n",
       "      <td>Zeppelin</td>\n",
       "      <td>Quartz</td>\n",
       "      <td>steel</td>\n",
       "      <td>Leather</td>\n",
       "      <td>Men's watch/Unisex</td>\n",
       "      <td>22192.5</td>\n",
       "      <td>Circular</td>\n",
       "      <td>Mineral Glass</td>\n",
       "      <td>Grey</td>\n",
       "      <td>Brown</td>\n",
       "      <td>Buckle</td>\n",
       "      <td>2328.0</td>\n",
       "      <td>1742.0</td>\n",
       "      <td>2024-01-01</td>\n",
       "      <td>Medium Sale</td>\n",
       "    </tr>\n",
       "    <tr>\n",
       "      <th>1</th>\n",
       "      <td>14</td>\n",
       "      <td>Formex</td>\n",
       "      <td>Automatic</td>\n",
       "      <td>Carbon</td>\n",
       "      <td>Textile</td>\n",
       "      <td>Men's watch/Unisex</td>\n",
       "      <td>164917.5</td>\n",
       "      <td>Rectangular</td>\n",
       "      <td>Sapphire crystal</td>\n",
       "      <td>Grey</td>\n",
       "      <td>Black</td>\n",
       "      <td>Buckle</td>\n",
       "      <td>1072.0</td>\n",
       "      <td>940.0</td>\n",
       "      <td>2024-01-01</td>\n",
       "      <td>Medium Sale</td>\n",
       "    </tr>\n",
       "    <tr>\n",
       "      <th>2</th>\n",
       "      <td>17</td>\n",
       "      <td>Vostok</td>\n",
       "      <td>Automatic</td>\n",
       "      <td>steel</td>\n",
       "      <td>Steel</td>\n",
       "      <td>Men's watch/Unisex</td>\n",
       "      <td>11467.5</td>\n",
       "      <td>Rectangular</td>\n",
       "      <td>Glass</td>\n",
       "      <td>White</td>\n",
       "      <td>Steel</td>\n",
       "      <td>Fold clasp</td>\n",
       "      <td>804.0</td>\n",
       "      <td>551.0</td>\n",
       "      <td>2024-01-01</td>\n",
       "      <td>Medium Sale</td>\n",
       "    </tr>\n",
       "    <tr>\n",
       "      <th>3</th>\n",
       "      <td>18</td>\n",
       "      <td>Ingersoll</td>\n",
       "      <td>Automatic</td>\n",
       "      <td>steel</td>\n",
       "      <td>Animal skin</td>\n",
       "      <td>Men's watch/Unisex</td>\n",
       "      <td>28957.5</td>\n",
       "      <td>Circular</td>\n",
       "      <td>Mineral Glass</td>\n",
       "      <td>Gold</td>\n",
       "      <td>Black</td>\n",
       "      <td>Buckle</td>\n",
       "      <td>14626.0</td>\n",
       "      <td>7424.0</td>\n",
       "      <td>2024-01-01</td>\n",
       "      <td>High Sale</td>\n",
       "    </tr>\n",
       "    <tr>\n",
       "      <th>4</th>\n",
       "      <td>19</td>\n",
       "      <td>Omega</td>\n",
       "      <td>Automatic</td>\n",
       "      <td>steel</td>\n",
       "      <td>Rubber</td>\n",
       "      <td>Men's watch/Unisex</td>\n",
       "      <td>412500.0</td>\n",
       "      <td>Circular</td>\n",
       "      <td>Sapphire crystal</td>\n",
       "      <td>Black</td>\n",
       "      <td>Black</td>\n",
       "      <td>Buckle</td>\n",
       "      <td>254.0</td>\n",
       "      <td>128.0</td>\n",
       "      <td>2024-01-01</td>\n",
       "      <td>Low Sale</td>\n",
       "    </tr>\n",
       "  </tbody>\n",
       "</table>\n",
       "</div>"
      ],
      "text/plain": [
       "   Unnamed: 0      Brand   Movement Case material Bracelet material  \\\n",
       "0          12   Zeppelin     Quartz         steel           Leather   \n",
       "1          14     Formex  Automatic        Carbon           Textile   \n",
       "2          17     Vostok  Automatic         steel             Steel   \n",
       "3          18  Ingersoll  Automatic         steel       Animal skin   \n",
       "4          19      Omega  Automatic         steel            Rubber   \n",
       "\n",
       "               Gender     Price        Shape           Crystal   Dial  \\\n",
       "0  Men's watch/Unisex   22192.5     Circular     Mineral Glass   Grey   \n",
       "1  Men's watch/Unisex  164917.5  Rectangular  Sapphire crystal   Grey   \n",
       "2  Men's watch/Unisex   11467.5  Rectangular             Glass  White   \n",
       "3  Men's watch/Unisex   28957.5     Circular     Mineral Glass   Gold   \n",
       "4  Men's watch/Unisex  412500.0     Circular  Sapphire crystal  Black   \n",
       "\n",
       "  Bracelet color       Clasp  Total Sale  Seller Reviews        Year  \\\n",
       "0          Brown      Buckle      2328.0          1742.0  2024-01-01   \n",
       "1          Black      Buckle      1072.0           940.0  2024-01-01   \n",
       "2          Steel  Fold clasp       804.0           551.0  2024-01-01   \n",
       "3          Black      Buckle     14626.0          7424.0  2024-01-01   \n",
       "4          Black      Buckle       254.0           128.0  2024-01-01   \n",
       "\n",
       "        Volume  \n",
       "0  Medium Sale  \n",
       "1  Medium Sale  \n",
       "2  Medium Sale  \n",
       "3    High Sale  \n",
       "4     Low Sale  "
      ]
     },
     "execution_count": 2,
     "metadata": {},
     "output_type": "execute_result"
    }
   ],
   "source": [
    "df = pd.read_csv(\"cleaned_watched.csv\")\n",
    "df.head()"
   ]
  },
  {
   "cell_type": "code",
   "execution_count": 3,
   "id": "7f56385c",
   "metadata": {},
   "outputs": [
    {
     "data": {
      "text/plain": [
       "Index(['Unnamed: 0', 'Brand', 'Movement', 'Case material', 'Bracelet material',\n",
       "       'Gender', 'Price', 'Shape', 'Crystal', 'Dial', 'Bracelet color',\n",
       "       'Clasp', 'Total Sale', 'Seller Reviews', 'Year', 'Volume'],\n",
       "      dtype='object')"
      ]
     },
     "execution_count": 3,
     "metadata": {},
     "output_type": "execute_result"
    }
   ],
   "source": [
    "df.columns"
   ]
  },
  {
   "cell_type": "code",
   "execution_count": 4,
   "id": "7219e5f7",
   "metadata": {},
   "outputs": [
    {
     "name": "stdout",
     "output_type": "stream",
     "text": [
      "<class 'pandas.core.frame.DataFrame'>\n",
      "RangeIndex: 12702 entries, 0 to 12701\n",
      "Data columns (total 16 columns):\n",
      " #   Column             Non-Null Count  Dtype  \n",
      "---  ------             --------------  -----  \n",
      " 0   Unnamed: 0         12702 non-null  int64  \n",
      " 1   Brand              12702 non-null  object \n",
      " 2   Movement           12702 non-null  object \n",
      " 3   Case material      12702 non-null  object \n",
      " 4   Bracelet material  12702 non-null  object \n",
      " 5   Gender             12702 non-null  object \n",
      " 6   Price              12702 non-null  float64\n",
      " 7   Shape              12702 non-null  object \n",
      " 8   Crystal            12702 non-null  object \n",
      " 9   Dial               12702 non-null  object \n",
      " 10  Bracelet color     12702 non-null  object \n",
      " 11  Clasp              12702 non-null  object \n",
      " 12  Total Sale         12702 non-null  float64\n",
      " 13  Seller Reviews     12702 non-null  float64\n",
      " 14  Year               12702 non-null  object \n",
      " 15  Volume             12702 non-null  object \n",
      "dtypes: float64(3), int64(1), object(12)\n",
      "memory usage: 1.6+ MB\n"
     ]
    }
   ],
   "source": [
    "df.info()"
   ]
  },
  {
   "cell_type": "code",
   "execution_count": 5,
   "id": "c74d9b23",
   "metadata": {},
   "outputs": [],
   "source": [
    "df['Year'] = pd.to_datetime(df['Year'])"
   ]
  },
  {
   "cell_type": "code",
   "execution_count": 6,
   "id": "e16878b5",
   "metadata": {},
   "outputs": [
    {
     "name": "stdout",
     "output_type": "stream",
     "text": [
      "<class 'pandas.core.frame.DataFrame'>\n",
      "RangeIndex: 12702 entries, 0 to 12701\n",
      "Data columns (total 16 columns):\n",
      " #   Column             Non-Null Count  Dtype         \n",
      "---  ------             --------------  -----         \n",
      " 0   Unnamed: 0         12702 non-null  int64         \n",
      " 1   Brand              12702 non-null  object        \n",
      " 2   Movement           12702 non-null  object        \n",
      " 3   Case material      12702 non-null  object        \n",
      " 4   Bracelet material  12702 non-null  object        \n",
      " 5   Gender             12702 non-null  object        \n",
      " 6   Price              12702 non-null  float64       \n",
      " 7   Shape              12702 non-null  object        \n",
      " 8   Crystal            12702 non-null  object        \n",
      " 9   Dial               12702 non-null  object        \n",
      " 10  Bracelet color     12702 non-null  object        \n",
      " 11  Clasp              12702 non-null  object        \n",
      " 12  Total Sale         12702 non-null  float64       \n",
      " 13  Seller Reviews     12702 non-null  float64       \n",
      " 14  Year               12702 non-null  datetime64[ns]\n",
      " 15  Volume             12702 non-null  object        \n",
      "dtypes: datetime64[ns](1), float64(3), int64(1), object(11)\n",
      "memory usage: 1.6+ MB\n"
     ]
    }
   ],
   "source": [
    "df.info()"
   ]
  },
  {
   "cell_type": "code",
   "execution_count": 7,
   "id": "c60e0978",
   "metadata": {},
   "outputs": [
    {
     "data": {
      "text/plain": [
       "Unnamed: 0           12702\n",
       "Brand                  405\n",
       "Movement                 5\n",
       "Case material           12\n",
       "Bracelet material       10\n",
       "Gender                   2\n",
       "Price                 4195\n",
       "Shape                    2\n",
       "Crystal                  5\n",
       "Dial                    14\n",
       "Bracelet color           9\n",
       "Clasp                    6\n",
       "Total Sale             865\n",
       "Seller Reviews         641\n",
       "Year                    99\n",
       "Volume                   3\n",
       "dtype: int64"
      ]
     },
     "execution_count": 7,
     "metadata": {},
     "output_type": "execute_result"
    }
   ],
   "source": [
    "df.nunique()"
   ]
  },
  {
   "cell_type": "code",
   "execution_count": 9,
   "id": "a8bd1c9b",
   "metadata": {},
   "outputs": [],
   "source": [
    "df.columns = df.columns.str.lower()"
   ]
  },
  {
   "cell_type": "code",
   "execution_count": 10,
   "id": "44a5af58",
   "metadata": {},
   "outputs": [
    {
     "data": {
      "text/plain": [
       "Index(['unnamed: 0', 'brand', 'movement', 'case material', 'bracelet material',\n",
       "       'gender', 'price', 'shape', 'crystal', 'dial', 'bracelet color',\n",
       "       'clasp', 'total sale', 'seller reviews', 'year', 'volume'],\n",
       "      dtype='object')"
      ]
     },
     "execution_count": 10,
     "metadata": {},
     "output_type": "execute_result"
    }
   ],
   "source": [
    "df.columns"
   ]
  },
  {
   "cell_type": "code",
   "execution_count": 25,
   "id": "52183b7c",
   "metadata": {},
   "outputs": [],
   "source": [
    "df.to_csv('watches.csv',index=False)"
   ]
  },
  {
   "cell_type": "code",
   "execution_count": null,
   "id": "233b483d",
   "metadata": {},
   "outputs": [],
   "source": [
    "df.rename(columns={\n",
    "    'unnamed: 0':'serial',\n",
    "    'case material':'case_material',\n",
    "    'bracelet material':'bracelet_material',\n",
    "    'bracelet color':'bracelet_color',\n",
    "    'total sale':'total_sale',\n",
    "    'seller reviews':'seller_reviews'\n",
    "    },inplace=True)"
   ]
  },
  {
   "cell_type": "code",
   "execution_count": 16,
   "id": "dbcce448",
   "metadata": {},
   "outputs": [],
   "source": [
    "df.rename(columns={'Serial':'serial'},inplace=True)"
   ]
  },
  {
   "cell_type": "code",
   "execution_count": 17,
   "id": "f798d4f9",
   "metadata": {},
   "outputs": [],
   "source": [
    "df1 = df[['serial','brand', 'movement', 'case_material', 'bracelet_material','gender','shape', 'crystal', 'dial', 'bracelet_color',\n",
    "       'clasp','year']]"
   ]
  },
  {
   "cell_type": "code",
   "execution_count": 19,
   "id": "d2142a16",
   "metadata": {},
   "outputs": [
    {
     "data": {
      "text/html": [
       "<div>\n",
       "<style scoped>\n",
       "    .dataframe tbody tr th:only-of-type {\n",
       "        vertical-align: middle;\n",
       "    }\n",
       "\n",
       "    .dataframe tbody tr th {\n",
       "        vertical-align: top;\n",
       "    }\n",
       "\n",
       "    .dataframe thead th {\n",
       "        text-align: right;\n",
       "    }\n",
       "</style>\n",
       "<table border=\"1\" class=\"dataframe\">\n",
       "  <thead>\n",
       "    <tr style=\"text-align: right;\">\n",
       "      <th></th>\n",
       "      <th>serial</th>\n",
       "      <th>brand</th>\n",
       "      <th>movement</th>\n",
       "      <th>case_material</th>\n",
       "      <th>bracelet_material</th>\n",
       "      <th>gender</th>\n",
       "      <th>shape</th>\n",
       "      <th>crystal</th>\n",
       "      <th>dial</th>\n",
       "      <th>bracelet_color</th>\n",
       "      <th>clasp</th>\n",
       "      <th>year</th>\n",
       "    </tr>\n",
       "  </thead>\n",
       "  <tbody>\n",
       "    <tr>\n",
       "      <th>0</th>\n",
       "      <td>12</td>\n",
       "      <td>Zeppelin</td>\n",
       "      <td>Quartz</td>\n",
       "      <td>steel</td>\n",
       "      <td>Leather</td>\n",
       "      <td>Men's watch/Unisex</td>\n",
       "      <td>Circular</td>\n",
       "      <td>Mineral Glass</td>\n",
       "      <td>Grey</td>\n",
       "      <td>Brown</td>\n",
       "      <td>Buckle</td>\n",
       "      <td>2024-01-01</td>\n",
       "    </tr>\n",
       "    <tr>\n",
       "      <th>1</th>\n",
       "      <td>14</td>\n",
       "      <td>Formex</td>\n",
       "      <td>Automatic</td>\n",
       "      <td>Carbon</td>\n",
       "      <td>Textile</td>\n",
       "      <td>Men's watch/Unisex</td>\n",
       "      <td>Rectangular</td>\n",
       "      <td>Sapphire crystal</td>\n",
       "      <td>Grey</td>\n",
       "      <td>Black</td>\n",
       "      <td>Buckle</td>\n",
       "      <td>2024-01-01</td>\n",
       "    </tr>\n",
       "    <tr>\n",
       "      <th>2</th>\n",
       "      <td>17</td>\n",
       "      <td>Vostok</td>\n",
       "      <td>Automatic</td>\n",
       "      <td>steel</td>\n",
       "      <td>Steel</td>\n",
       "      <td>Men's watch/Unisex</td>\n",
       "      <td>Rectangular</td>\n",
       "      <td>Glass</td>\n",
       "      <td>White</td>\n",
       "      <td>Steel</td>\n",
       "      <td>Fold clasp</td>\n",
       "      <td>2024-01-01</td>\n",
       "    </tr>\n",
       "    <tr>\n",
       "      <th>3</th>\n",
       "      <td>18</td>\n",
       "      <td>Ingersoll</td>\n",
       "      <td>Automatic</td>\n",
       "      <td>steel</td>\n",
       "      <td>Animal skin</td>\n",
       "      <td>Men's watch/Unisex</td>\n",
       "      <td>Circular</td>\n",
       "      <td>Mineral Glass</td>\n",
       "      <td>Gold</td>\n",
       "      <td>Black</td>\n",
       "      <td>Buckle</td>\n",
       "      <td>2024-01-01</td>\n",
       "    </tr>\n",
       "    <tr>\n",
       "      <th>4</th>\n",
       "      <td>19</td>\n",
       "      <td>Omega</td>\n",
       "      <td>Automatic</td>\n",
       "      <td>steel</td>\n",
       "      <td>Rubber</td>\n",
       "      <td>Men's watch/Unisex</td>\n",
       "      <td>Circular</td>\n",
       "      <td>Sapphire crystal</td>\n",
       "      <td>Black</td>\n",
       "      <td>Black</td>\n",
       "      <td>Buckle</td>\n",
       "      <td>2024-01-01</td>\n",
       "    </tr>\n",
       "  </tbody>\n",
       "</table>\n",
       "</div>"
      ],
      "text/plain": [
       "   serial      brand   movement case_material bracelet_material  \\\n",
       "0      12   Zeppelin     Quartz         steel           Leather   \n",
       "1      14     Formex  Automatic        Carbon           Textile   \n",
       "2      17     Vostok  Automatic         steel             Steel   \n",
       "3      18  Ingersoll  Automatic         steel       Animal skin   \n",
       "4      19      Omega  Automatic         steel            Rubber   \n",
       "\n",
       "               gender        shape           crystal   dial bracelet_color  \\\n",
       "0  Men's watch/Unisex     Circular     Mineral Glass   Grey          Brown   \n",
       "1  Men's watch/Unisex  Rectangular  Sapphire crystal   Grey          Black   \n",
       "2  Men's watch/Unisex  Rectangular             Glass  White          Steel   \n",
       "3  Men's watch/Unisex     Circular     Mineral Glass   Gold          Black   \n",
       "4  Men's watch/Unisex     Circular  Sapphire crystal  Black          Black   \n",
       "\n",
       "        clasp       year  \n",
       "0      Buckle 2024-01-01  \n",
       "1      Buckle 2024-01-01  \n",
       "2  Fold clasp 2024-01-01  \n",
       "3      Buckle 2024-01-01  \n",
       "4      Buckle 2024-01-01  "
      ]
     },
     "execution_count": 19,
     "metadata": {},
     "output_type": "execute_result"
    }
   ],
   "source": [
    "df1.head()"
   ]
  },
  {
   "cell_type": "code",
   "execution_count": 20,
   "id": "2417ea8f",
   "metadata": {},
   "outputs": [
    {
     "data": {
      "text/plain": [
       "Index(['serial', 'brand', 'movement', 'case_material', 'bracelet_material',\n",
       "       'gender', 'price', 'shape', 'crystal', 'dial', 'bracelet_color',\n",
       "       'clasp', 'total_sale', 'seller_reviews', 'year', 'volume'],\n",
       "      dtype='object')"
      ]
     },
     "execution_count": 20,
     "metadata": {},
     "output_type": "execute_result"
    }
   ],
   "source": [
    "df.columns"
   ]
  },
  {
   "cell_type": "code",
   "execution_count": 21,
   "id": "4aa25955",
   "metadata": {},
   "outputs": [],
   "source": [
    "df2 = df[['serial', 'brand','gender', 'price','total_sale', 'seller_reviews', 'year', 'volume']]"
   ]
  },
  {
   "cell_type": "code",
   "execution_count": 22,
   "id": "4bb22534",
   "metadata": {},
   "outputs": [
    {
     "data": {
      "text/html": [
       "<div>\n",
       "<style scoped>\n",
       "    .dataframe tbody tr th:only-of-type {\n",
       "        vertical-align: middle;\n",
       "    }\n",
       "\n",
       "    .dataframe tbody tr th {\n",
       "        vertical-align: top;\n",
       "    }\n",
       "\n",
       "    .dataframe thead th {\n",
       "        text-align: right;\n",
       "    }\n",
       "</style>\n",
       "<table border=\"1\" class=\"dataframe\">\n",
       "  <thead>\n",
       "    <tr style=\"text-align: right;\">\n",
       "      <th></th>\n",
       "      <th>serial</th>\n",
       "      <th>brand</th>\n",
       "      <th>gender</th>\n",
       "      <th>price</th>\n",
       "      <th>total_sale</th>\n",
       "      <th>seller_reviews</th>\n",
       "      <th>year</th>\n",
       "      <th>volume</th>\n",
       "    </tr>\n",
       "  </thead>\n",
       "  <tbody>\n",
       "    <tr>\n",
       "      <th>0</th>\n",
       "      <td>12</td>\n",
       "      <td>Zeppelin</td>\n",
       "      <td>Men's watch/Unisex</td>\n",
       "      <td>22192.5</td>\n",
       "      <td>2328.0</td>\n",
       "      <td>1742.0</td>\n",
       "      <td>2024-01-01</td>\n",
       "      <td>Medium Sale</td>\n",
       "    </tr>\n",
       "    <tr>\n",
       "      <th>1</th>\n",
       "      <td>14</td>\n",
       "      <td>Formex</td>\n",
       "      <td>Men's watch/Unisex</td>\n",
       "      <td>164917.5</td>\n",
       "      <td>1072.0</td>\n",
       "      <td>940.0</td>\n",
       "      <td>2024-01-01</td>\n",
       "      <td>Medium Sale</td>\n",
       "    </tr>\n",
       "    <tr>\n",
       "      <th>2</th>\n",
       "      <td>17</td>\n",
       "      <td>Vostok</td>\n",
       "      <td>Men's watch/Unisex</td>\n",
       "      <td>11467.5</td>\n",
       "      <td>804.0</td>\n",
       "      <td>551.0</td>\n",
       "      <td>2024-01-01</td>\n",
       "      <td>Medium Sale</td>\n",
       "    </tr>\n",
       "    <tr>\n",
       "      <th>3</th>\n",
       "      <td>18</td>\n",
       "      <td>Ingersoll</td>\n",
       "      <td>Men's watch/Unisex</td>\n",
       "      <td>28957.5</td>\n",
       "      <td>14626.0</td>\n",
       "      <td>7424.0</td>\n",
       "      <td>2024-01-01</td>\n",
       "      <td>High Sale</td>\n",
       "    </tr>\n",
       "    <tr>\n",
       "      <th>4</th>\n",
       "      <td>19</td>\n",
       "      <td>Omega</td>\n",
       "      <td>Men's watch/Unisex</td>\n",
       "      <td>412500.0</td>\n",
       "      <td>254.0</td>\n",
       "      <td>128.0</td>\n",
       "      <td>2024-01-01</td>\n",
       "      <td>Low Sale</td>\n",
       "    </tr>\n",
       "  </tbody>\n",
       "</table>\n",
       "</div>"
      ],
      "text/plain": [
       "   serial      brand              gender     price  total_sale  \\\n",
       "0      12   Zeppelin  Men's watch/Unisex   22192.5      2328.0   \n",
       "1      14     Formex  Men's watch/Unisex  164917.5      1072.0   \n",
       "2      17     Vostok  Men's watch/Unisex   11467.5       804.0   \n",
       "3      18  Ingersoll  Men's watch/Unisex   28957.5     14626.0   \n",
       "4      19      Omega  Men's watch/Unisex  412500.0       254.0   \n",
       "\n",
       "   seller_reviews       year       volume  \n",
       "0          1742.0 2024-01-01  Medium Sale  \n",
       "1           940.0 2024-01-01  Medium Sale  \n",
       "2           551.0 2024-01-01  Medium Sale  \n",
       "3          7424.0 2024-01-01    High Sale  \n",
       "4           128.0 2024-01-01     Low Sale  "
      ]
     },
     "execution_count": 22,
     "metadata": {},
     "output_type": "execute_result"
    }
   ],
   "source": [
    "df2.head()"
   ]
  },
  {
   "cell_type": "code",
   "execution_count": 23,
   "id": "95743bff",
   "metadata": {},
   "outputs": [],
   "source": [
    "df1.to_csv('watch_built.csv',index=False)"
   ]
  },
  {
   "cell_type": "code",
   "execution_count": 24,
   "id": "a4d2c939",
   "metadata": {},
   "outputs": [],
   "source": [
    "df2.to_csv('watch_num.csv',index=False)"
   ]
  }
 ],
 "metadata": {
  "kernelspec": {
   "display_name": "myenv",
   "language": "python",
   "name": "python3"
  },
  "language_info": {
   "codemirror_mode": {
    "name": "ipython",
    "version": 3
   },
   "file_extension": ".py",
   "mimetype": "text/x-python",
   "name": "python",
   "nbconvert_exporter": "python",
   "pygments_lexer": "ipython3",
   "version": "3.12.1"
  }
 },
 "nbformat": 4,
 "nbformat_minor": 5
}
